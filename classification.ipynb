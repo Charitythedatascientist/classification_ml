{
 "cells": [
  {
   "cell_type": "code",
   "execution_count": 1,
   "id": "3d034c43",
   "metadata": {},
   "outputs": [],
   "source": [
    "import pandas as pd\n",
    "from sklearn.model_selection import train_test_split\n",
    "from sklearn.ensemble import RandomForestClassifier\n",
    "from sklearn.metrics import roc_auc_score"
   ]
  },
  {
   "cell_type": "code",
   "execution_count": 2,
   "id": "801e8125",
   "metadata": {},
   "outputs": [],
   "source": [
    "# Loading the dataset\n",
    "url = \"https://raw.githubusercontent.com/alexeygrigorev/mlbookcamp-code/master/chapter-02-car-price/data.csv\"\n",
    "data = pd.read_csv(url)"
   ]
  },
  {
   "cell_type": "code",
   "execution_count": 3,
   "id": "3a488f7b",
   "metadata": {},
   "outputs": [],
   "source": [
    "#maintaining only the specified columns\n",
    "selected_columns = [\n",
    "    'Make',\n",
    "    'Model',\n",
    "    'Year',\n",
    "    'Engine HP',\n",
    "    'Engine Cylinders',\n",
    "    'Transmission Type',\n",
    "    'Vehicle Style',\n",
    "    'highway MPG',\n",
    "    'city mpg',\n",
    "    'MSRP'\n",
    "]"
   ]
  },
  {
   "cell_type": "code",
   "execution_count": 4,
   "id": "5fbe6c7a",
   "metadata": {},
   "outputs": [],
   "source": [
    "data = data[selected_columns]"
   ]
  },
  {
   "cell_type": "code",
   "execution_count": 5,
   "id": "a1dcda23",
   "metadata": {},
   "outputs": [],
   "source": [
    "# Lowercase the column names and replacing the spaces with underscores\n",
    "data.columns = data.columns.str.lower().str.replace(' ', '_')"
   ]
  },
  {
   "cell_type": "code",
   "execution_count": 6,
   "id": "100a7a34",
   "metadata": {},
   "outputs": [],
   "source": [
    "# Replacing all missing values with 0\n",
    "data = data.fillna(0)"
   ]
  },
  {
   "cell_type": "code",
   "execution_count": 7,
   "id": "ea76dbdd",
   "metadata": {},
   "outputs": [],
   "source": [
    "# Making the price binary (1 if above the average, else 0)\n",
    "data['above_average'] = (data['msrp'] > data['msrp'].mean()).astype(int)"
   ]
  },
  {
   "cell_type": "code",
   "execution_count": 8,
   "id": "7c93a7eb",
   "metadata": {},
   "outputs": [],
   "source": [
    "# Splitting the data into train/validation/test sets as required\n",
    "train, test = train_test_split(data, test_size=0.2, random_state=1)\n",
    "train, val = train_test_split(train, test_size=0.25, random_state=1)"
   ]
  },
  {
   "cell_type": "code",
   "execution_count": 9,
   "id": "a6098e20",
   "metadata": {},
   "outputs": [],
   "source": [
    "# Defining the numerical variables\n",
    "numerical_vars = ['engine_hp', 'engine_cylinders', 'highway_mpg', 'city_mpg']"
   ]
  },
  {
   "cell_type": "code",
   "execution_count": 10,
   "id": "d752b799",
   "metadata": {},
   "outputs": [
    {
     "name": "stdout",
     "output_type": "stream",
     "text": [
      "AUC for engine_hp: 0.9171031265539011\n",
      "AUC for engine_cylinders: 0.766116490165669\n",
      "AUC for highway_mpg: 0.6330587871772013\n",
      "AUC for city_mpg: 0.6734244643245233\n"
     ]
    }
   ],
   "source": [
    "# Evaluating AUC for each numerical variable\n",
    "for var in numerical_vars:\n",
    "    auc = roc_auc_score(train['above_average'], train[var])\n",
    "    # Inverting the variable if AUC is < 0.5\n",
    "    if auc < 0.5:\n",
    "        auc = roc_auc_score(train['above_average'], -train[var])\n",
    "    \n",
    "    print(f'AUC for {var}: {auc}')"
   ]
  },
  {
   "cell_type": "code",
   "execution_count": 11,
   "id": "16fb5b9b",
   "metadata": {},
   "outputs": [
    {
     "name": "stdout",
     "output_type": "stream",
     "text": [
      "AUC on the validation dataset: 0.962\n"
     ]
    }
   ],
   "source": [
    "from sklearn.feature_extraction import DictVectorizer\n",
    "from sklearn.linear_model import LogisticRegression\n",
    "from sklearn.metrics import roc_auc_score\n",
    "\n",
    "# Define categorical variables\n",
    "categorical_vars = ['make', 'model', 'year', 'transmission_type', 'vehicle_style']\n",
    "\n",
    "# Ensure the specified categorical variables are present in the DataFrame\n",
    "missing_vars = set(categorical_vars) - set(train.columns)\n",
    "if missing_vars:\n",
    "    raise ValueError(f\"The following categorical variables are not present in the DataFrame: {missing_vars}\")\n",
    "\n",
    "# Apply one-hot-encoding using DictVectorizer\n",
    "dv = DictVectorizer(sparse=False)\n",
    "train_dict = train[categorical_vars].to_dict(orient='records')\n",
    "X_train = dv.fit_transform(train_dict)\n",
    "\n",
    "val_dict = val[categorical_vars].to_dict(orient='records')\n",
    "X_val = dv.transform(val_dict)\n",
    "\n",
    "# Train logistic regression model\n",
    "model = LogisticRegression(solver='liblinear', C=1.0, max_iter=1000)\n",
    "model.fit(X_train, train['above_average'])\n",
    "\n",
    "# Predict probabilities on the validation set\n",
    "val_preds = model.predict_proba(X_val)[:, 1]\n",
    "\n",
    "# Calculate AUC on the validation dataset\n",
    "auc = roc_auc_score(val['above_average'], val_preds)\n",
    "\n",
    "print(f'AUC on the validation dataset: {round(auc, 3)}')\n"
   ]
  },
  {
   "cell_type": "code",
   "execution_count": 12,
   "id": "770bb801",
   "metadata": {},
   "outputs": [
    {
     "data": {
      "text/html": [
       "<div>\n",
       "<style scoped>\n",
       "    .dataframe tbody tr th:only-of-type {\n",
       "        vertical-align: middle;\n",
       "    }\n",
       "\n",
       "    .dataframe tbody tr th {\n",
       "        vertical-align: top;\n",
       "    }\n",
       "\n",
       "    .dataframe thead th {\n",
       "        text-align: right;\n",
       "    }\n",
       "</style>\n",
       "<table border=\"1\" class=\"dataframe\">\n",
       "  <thead>\n",
       "    <tr style=\"text-align: right;\">\n",
       "      <th></th>\n",
       "      <th>make</th>\n",
       "      <th>model</th>\n",
       "      <th>year</th>\n",
       "      <th>engine_hp</th>\n",
       "      <th>engine_cylinders</th>\n",
       "      <th>transmission_type</th>\n",
       "      <th>vehicle_style</th>\n",
       "      <th>highway_mpg</th>\n",
       "      <th>city_mpg</th>\n",
       "      <th>msrp</th>\n",
       "      <th>above_average</th>\n",
       "    </tr>\n",
       "  </thead>\n",
       "  <tbody>\n",
       "    <tr>\n",
       "      <th>0</th>\n",
       "      <td>BMW</td>\n",
       "      <td>1 Series M</td>\n",
       "      <td>2011</td>\n",
       "      <td>335.0</td>\n",
       "      <td>6.0</td>\n",
       "      <td>MANUAL</td>\n",
       "      <td>Coupe</td>\n",
       "      <td>26</td>\n",
       "      <td>19</td>\n",
       "      <td>46135</td>\n",
       "      <td>1</td>\n",
       "    </tr>\n",
       "    <tr>\n",
       "      <th>1</th>\n",
       "      <td>BMW</td>\n",
       "      <td>1 Series</td>\n",
       "      <td>2011</td>\n",
       "      <td>300.0</td>\n",
       "      <td>6.0</td>\n",
       "      <td>MANUAL</td>\n",
       "      <td>Convertible</td>\n",
       "      <td>28</td>\n",
       "      <td>19</td>\n",
       "      <td>40650</td>\n",
       "      <td>1</td>\n",
       "    </tr>\n",
       "  </tbody>\n",
       "</table>\n",
       "</div>"
      ],
      "text/plain": [
       "  make       model  year  engine_hp  engine_cylinders transmission_type  \\\n",
       "0  BMW  1 Series M  2011      335.0               6.0            MANUAL   \n",
       "1  BMW    1 Series  2011      300.0               6.0            MANUAL   \n",
       "\n",
       "  vehicle_style  highway_mpg  city_mpg   msrp  above_average  \n",
       "0         Coupe           26        19  46135              1  \n",
       "1   Convertible           28        19  40650              1  "
      ]
     },
     "execution_count": 12,
     "metadata": {},
     "output_type": "execute_result"
    }
   ],
   "source": [
    "data.head(2)"
   ]
  },
  {
   "cell_type": "code",
   "execution_count": 13,
   "id": "ea83ce43",
   "metadata": {},
   "outputs": [
    {
     "name": "stderr",
     "output_type": "stream",
     "text": [
      "C:\\Users\\user\\anaconda3\\lib\\site-packages\\sklearn\\metrics\\_classification.py:1344: UndefinedMetricWarning: Precision is ill-defined and being set to 0.0 due to no predicted samples. Use `zero_division` parameter to control this behavior.\n",
      "  _warn_prf(average, modifier, msg_start, len(result))\n",
      "C:\\Users\\user\\anaconda3\\lib\\site-packages\\sklearn\\metrics\\_classification.py:1344: UndefinedMetricWarning: Precision is ill-defined and being set to 0.0 due to no predicted samples. Use `zero_division` parameter to control this behavior.\n",
      "  _warn_prf(average, modifier, msg_start, len(result))\n"
     ]
    },
    {
     "data": {
      "image/png": "[encoded data removed]",
      "text/plain": [
       "<Figure size 1000x600 with 1 Axes>"
      ]
     },
     "metadata": {},
     "output_type": "display_data"
    }
   ],
   "source": [
    "import matplotlib.pyplot as plt\n",
    "import numpy as np\n",
    "from sklearn.metrics import precision_score, recall_score\n",
    "\n",
    "# Define a range of thresholds\n",
    "thresholds = np.arange(0.0, 1.01, 0.01)\n",
    "\n",
    "# Initialize empty lists to store precision and recall values\n",
    "precision_values = []\n",
    "recall_values = []\n",
    "\n",
    "# Evaluate the model for each threshold\n",
    "for threshold in thresholds:\n",
    "    # Apply the threshold to convert probabilities to binary predictions\n",
    "    binary_preds = (val_preds > threshold).astype(int)\n",
    "    \n",
    "    # Compute precision and recall\n",
    "    precision = precision_score(val['above_average'], binary_preds)\n",
    "    recall = recall_score(val['above_average'], binary_preds)\n",
    "    \n",
    "    # Append values to the lists\n",
    "    precision_values.append(precision)\n",
    "    recall_values.append(recall)\n",
    "\n",
    "# Plot precision and recall curves\n",
    "plt.figure(figsize=(10, 6))\n",
    "plt.plot(thresholds, precision_values, label='Precision')\n",
    "plt.plot(thresholds, recall_values, label='Recall')\n",
    "plt.xlabel('Threshold')\n",
    "plt.ylabel('Score')\n",
    "plt.legend()\n",
    "plt.title('Precision and Recall Curves')\n",
    "plt.grid(True)\n",
    "plt.show()"
   ]
  },
  {
   "cell_type": "code",
   "execution_count": 14,
   "id": "098e3d30",
   "metadata": {},
   "outputs": [
    {
     "name": "stdout",
     "output_type": "stream",
     "text": [
      "Threshold at which F1 is maximal: 0.47000000000000003\n",
      "Maximal F1 score: 0.84\n"
     ]
    }
   ],
   "source": [
    "from sklearn.metrics import f1_score\n",
    "\n",
    "# Initialize an empty list to store F1 scores\n",
    "f1_scores = []\n",
    "\n",
    "# Evaluate the model for each threshold\n",
    "for threshold in thresholds:\n",
    "    # Apply the threshold to convert probabilities to binary predictions\n",
    "    binary_preds = (val_preds > threshold).astype(int)\n",
    "    \n",
    "    # Compute F1 score\n",
    "    f1 = f1_score(val['above_average'], binary_preds)\n",
    "    \n",
    "    # Append the F1 score to the list\n",
    "    f1_scores.append(f1)\n",
    "\n",
    "# Find the threshold at which F1 is maximal\n",
    "max_f1_threshold = thresholds[np.argmax(f1_scores)]\n",
    "max_f1_score = max(f1_scores)\n",
    "\n",
    "print(f\"Threshold at which F1 is maximal: {max_f1_threshold}\")\n",
    "print(f\"Maximal F1 score: {round(max_f1_score, 2)}\")\n"
   ]
  },
  {
   "cell_type": "code",
   "execution_count": 15,
   "id": "51664ba5",
   "metadata": {},
   "outputs": [
    {
     "name": "stdout",
     "output_type": "stream",
     "text": [
      "Standard deviation of AUC scores across different folds: 0.005\n"
     ]
    }
   ],
   "source": [
    "import numpy as np\n",
    "from sklearn.model_selection import KFold\n",
    "from sklearn.linear_model import LogisticRegression\n",
    "from sklearn.feature_extraction import DictVectorizer\n",
    "from sklearn.metrics import roc_auc_score\n",
    "\n",
    "# Assuming df_full_train is your full training dataset\n",
    "# Replace it with the actual DataFrame you are using\n",
    "df_full_train = data\n",
    "\n",
    "# List of categorical variables\n",
    "categorical_vars = ['make', 'model', 'year', 'transmission_type', 'vehicle_style']\n",
    "\n",
    "# Define the KFold object\n",
    "kf = KFold(n_splits=5, shuffle=True, random_state=1)\n",
    "\n",
    "# Initialize an empty list to store AUC scores\n",
    "auc_scores = []\n",
    "\n",
    "# Iterate over different folds\n",
    "for train_idx, val_idx in kf.split(df_full_train):\n",
    "    # Split the data into train and validation sets\n",
    "    train_fold = df_full_train.iloc[train_idx]\n",
    "    val_fold = df_full_train.iloc[val_idx]\n",
    "    \n",
    "    # Apply one-hot-encoding using DictVectorizer\n",
    "    dv = DictVectorizer(sparse=False)\n",
    "    X_train_fold = dv.fit_transform(train_fold[categorical_vars].to_dict(orient='records'))\n",
    "    X_val_fold = dv.transform(val_fold[categorical_vars].to_dict(orient='records'))\n",
    "    \n",
    "    # Train logistic regression model\n",
    "    model_fold = LogisticRegression(solver='liblinear', C=1.0, max_iter=1000)\n",
    "    model_fold.fit(X_train_fold, train_fold['above_average'])\n",
    "    \n",
    "    # Predict probabilities on the validation set\n",
    "    val_preds_fold = model_fold.predict_proba(X_val_fold)[:, 1]\n",
    "    \n",
    "    # Calculate AUC on the validation set\n",
    "    auc_fold = roc_auc_score(val_fold['above_average'], val_preds_fold)\n",
    "    \n",
    "    # Append the AUC score to the list\n",
    "    auc_scores.append(auc_fold)\n",
    "\n",
    "# Calculate the standard deviation of AUC scores\n",
    "std_dev_auc = np.std(auc_scores)\n",
    "\n",
    "print(f\"Standard deviation of AUC scores across different folds: {round(std_dev_auc, 3)}\")\n"
   ]
  },
  {
   "cell_type": "code",
   "execution_count": 16,
   "id": "b63663e5",
   "metadata": {},
   "outputs": [
    {
     "name": "stdout",
     "output_type": "stream",
     "text": [
      "Best C: 0.01, Mean AUC: 0.906, Std AUC: 0.003\n"
     ]
    }
   ],
   "source": [
    "import numpy as np\n",
    "from sklearn.model_selection import KFold\n",
    "from sklearn.linear_model import LogisticRegression\n",
    "from sklearn.feature_extraction import DictVectorizer\n",
    "from sklearn.metrics import roc_auc_score\n",
    "\n",
    "# Assuming df_full_train is your full training dataset\n",
    "# Replace it with the actual DataFrame you are using\n",
    "df_full_train = data\n",
    "\n",
    "# List of categorical variables\n",
    "categorical_vars = ['make', 'model', 'year', 'transmission_type', 'vehicle_style']\n",
    "\n",
    "# Values of C to iterate over\n",
    "C_values = [0.01, 0.1, 0.5, 10]\n",
    "\n",
    "# Define the KFold object\n",
    "kf = KFold(n_splits=5, shuffle=True, random_state=1)\n",
    "\n",
    "# Initialize an empty list to store mean and std scores for each C\n",
    "scores = []\n",
    "\n",
    "# Iterate over different values of C\n",
    "for C in C_values:\n",
    "    # Initialize an empty list to store AUC scores for each fold\n",
    "    auc_scores = []\n",
    "    \n",
    "    # Iterate over different folds\n",
    "    for train_idx, val_idx in kf.split(df_full_train):\n",
    "        # Split the data into train and validation sets\n",
    "        train_fold = df_full_train.iloc[train_idx]\n",
    "        val_fold = df_full_train.iloc[val_idx]\n",
    "\n",
    "        # Apply one-hot-encoding using DictVectorizer\n",
    "        dv = DictVectorizer(sparse=False)\n",
    "        X_train_fold = dv.fit_transform(train_fold[categorical_vars].to_dict(orient='records'))\n",
    "        X_val_fold = dv.transform(val_fold[categorical_vars].to_dict(orient='records'))\n",
    "\n",
    "        # Train logistic regression model\n",
    "        model_fold = LogisticRegression(solver='liblinear', C=C, max_iter=1000)\n",
    "        model_fold.fit(X_train_fold, train_fold['above_average'])\n",
    "\n",
    "        # Predict probabilities on the validation set\n",
    "        val_preds_fold = model_fold.predict_proba(X_val_fold)[:, 1]\n",
    "\n",
    "        # Calculate AUC on the validation set\n",
    "        auc_fold = roc_auc_score(val_fold['above_average'], val_preds_fold)\n",
    "\n",
    "        # Append the AUC score to the list\n",
    "        auc_scores.append(auc_fold)\n",
    "\n",
    "    # Calculate the mean and std of AUC scores for the current C\n",
    "    mean_score = np.mean(auc_scores)\n",
    "    std_score = np.std(auc_scores)\n",
    "    \n",
    "    # Append the mean and std scores along with the value of C to the list\n",
    "    scores.append((C, mean_score, std_score))\n",
    "\n",
    "# Find the best C based on mean score and then on std\n",
    "best_C = min(scores, key=lambda x: (x[1], x[2]))\n",
    "\n",
    "print(f\"Best C: {best_C[0]}, Mean AUC: {round(best_C[1], 3)}, Std AUC: {round(best_C[2], 3)}\")\n",
    "\n"
   ]
  },
  {
   "cell_type": "code",
   "execution_count": null,
   "id": "766e0c3a",
   "metadata": {},
   "outputs": [],
   "source": []
  }
 ],
 "metadata": {
  "kernelspec": {
   "display_name": "Python 3 (ipykernel)",
   "language": "python",
   "name": "python3"
  },
  "language_info": {
   "codemirror_mode": {
    "name": "ipython",
    "version": 3
   },
   "file_extension": ".py",
   "mimetype": "text/x-python",
   "name": "python",
   "nbconvert_exporter": "python",
   "pygments_lexer": "ipython3",
   "version": "3.10.9"
  }
 },
 "nbformat": 4,
 "nbformat_minor": 5
}
